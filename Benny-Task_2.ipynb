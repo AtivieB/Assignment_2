{
 "cells": [
  {
   "cell_type": "markdown",
   "id": "c4a002ea-b0a0-486c-87f4-c24206b5c06d",
   "metadata": {},
   "source": [
    "## Question 1\n",
    "3.1 How many seconds are in an hour? Use the interactive interpreter as a\r\n",
    " calculator and multiply the number of seconds in a minute (60) by the\r\n",
    " number of minutes in an hour (also 60)"
   ]
  },
  {
   "cell_type": "code",
   "execution_count": 10,
   "id": "bf0f90cd-a54c-4649-8a1d-481672e319b2",
   "metadata": {},
   "outputs": [
    {
     "name": "stdout",
     "output_type": "stream",
     "text": [
      "The number of second in an hour is 3600\n"
     ]
    }
   ],
   "source": [
    "sec_in_a_min = 60\n",
    "min_in_a_hour = 60\n",
    "\n",
    "sec_in_a_hour = sec_in_a_min * min_in_a_hour\n",
    "\n",
    "print(\"The number of second in an hour is {}\".format(sec_in_a_hour))"
   ]
  },
  {
   "cell_type": "markdown",
   "id": "cdb9e41f-c870-4f3f-af66-0a978fc5d037",
   "metadata": {},
   "source": [
    "## Question 2\n",
    "\n",
    "3.2 Assign the result from the previous task (seconds in an hour) to a\r\n",
    " variable called seconds_per_hour."
   ]
  },
  {
   "cell_type": "code",
   "execution_count": 16,
   "id": "505779a9-c0ac-4ff6-ae66-5240d5a8ee2b",
   "metadata": {},
   "outputs": [
    {
     "name": "stdout",
     "output_type": "stream",
     "text": [
      "3600\n"
     ]
    }
   ],
   "source": [
    "seconds_per_hour = sec_in_a_hour\n",
    "print(seconds_per_hour)"
   ]
  },
  {
   "cell_type": "markdown",
   "id": "1446145e-c6ab-45da-826a-d13885e831cc",
   "metadata": {},
   "source": [
    "## Question 3\n",
    "\n",
    " 3.3 How many seconds are in a day? Use your seconds_per_hour variable."
   ]
  },
  {
   "cell_type": "code",
   "execution_count": 22,
   "id": "476a99c2-77f1-4c91-963e-bcbc06648a6b",
   "metadata": {},
   "outputs": [
    {
     "name": "stdout",
     "output_type": "stream",
     "text": [
      "The number of second in a day is 86400 seconds\n"
     ]
    }
   ],
   "source": [
    "# There are 24 hours in a day\n",
    "print(f\"The number of second in a day is {seconds_per_hour*24} seconds\")"
   ]
  },
  {
   "cell_type": "markdown",
   "id": "0b05c28c-f737-4f39-95b6-488c9aaaa1fc",
   "metadata": {},
   "source": [
    "## Question 4\n",
    "\n",
    "3.4 Calculate seconds per day again, but this time save the result in a\r\n",
    " variable called seconds_per_day"
   ]
  },
  {
   "cell_type": "code",
   "execution_count": 26,
   "id": "761b9497-567c-4264-93db-1c8ee54c9773",
   "metadata": {},
   "outputs": [
    {
     "name": "stdout",
     "output_type": "stream",
     "text": [
      "The number of second in a day is 86400 seconds\n"
     ]
    }
   ],
   "source": [
    "seconds_per_day = seconds_per_hour * 24\n",
    "print(f\"The number of second in a day is {seconds_per_day} seconds\")"
   ]
  },
  {
   "cell_type": "markdown",
   "id": "e4d06d32-6af3-403a-98e2-13831670f44e",
   "metadata": {},
   "source": [
    "## Question 5\n",
    "\n",
    " 3.5 Divide seconds_per_day by seconds_per_hour. Use floating-point (/)\r\n",
    " division"
   ]
  },
  {
   "cell_type": "code",
   "execution_count": 34,
   "id": "85ade077-ca7d-4bfe-97dc-5c5685363523",
   "metadata": {},
   "outputs": [
    {
     "name": "stdout",
     "output_type": "stream",
     "text": [
      "The floating-point division of seconds_per_day by seconds_per_hour is: 24.0\n"
     ]
    }
   ],
   "source": [
    "print(f\"The floating-point division of seconds_per_day by seconds_per_hour is: {seconds_per_day/seconds_per_hour}\")"
   ]
  },
  {
   "cell_type": "markdown",
   "id": "8979a2ea-396f-487b-a3d6-cb909aefa0b0",
   "metadata": {},
   "source": [
    "## Question 6\n",
    "\n",
    " 3.6 Divide seconds_per_day by seconds_per_hour, using integer (//)\r\n",
    " division. Did this number agree with the floating-point value from the\r\n",
    " previous question, aside from the final .0?"
   ]
  },
  {
   "cell_type": "code",
   "execution_count": 36,
   "id": "b698c1fe-de7c-4306-8269-2163a3a5212c",
   "metadata": {},
   "outputs": [
    {
     "name": "stdout",
     "output_type": "stream",
     "text": [
      "The integer division of seconds_per_day by seconds_per_hour is: 24\n"
     ]
    }
   ],
   "source": [
    "print(f\"The integer division of seconds_per_day by seconds_per_hour is: {seconds_per_day//seconds_per_hour}\")"
   ]
  },
  {
   "cell_type": "code",
   "execution_count": null,
   "id": "ed37a448-c95b-4e7f-88bd-e5fba823c9b4",
   "metadata": {},
   "outputs": [],
   "source": []
  }
 ],
 "metadata": {
  "kernelspec": {
   "display_name": "Python 3 (ipykernel)",
   "language": "python",
   "name": "python3"
  },
  "language_info": {
   "codemirror_mode": {
    "name": "ipython",
    "version": 3
   },
   "file_extension": ".py",
   "mimetype": "text/x-python",
   "name": "python",
   "nbconvert_exporter": "python",
   "pygments_lexer": "ipython3",
   "version": "3.11.7"
  }
 },
 "nbformat": 4,
 "nbformat_minor": 5
}
